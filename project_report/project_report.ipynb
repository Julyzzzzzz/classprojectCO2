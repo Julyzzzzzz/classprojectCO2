{
 "cells": [
  {
   "cell_type": "markdown",
   "metadata": {},
   "source": [
    "# Carbon Dioxide Emissions over 40 Years in the U.S."
   ]
  },
  {
   "cell_type": "markdown",
   "metadata": {},
   "source": [
    "#### 1.\tSummary of research questions and results"
   ]
  },
  {
   "cell_type": "markdown",
   "metadata": {},
   "source": [
    "1. How do the transportation CO2 emission and industrial CO2 emission change over 40 years in Washington state?\n",
    "It shows different increase between different types (transportation and industry) of CO2 emissions. Over 38 years (1980 - 2017), it shows a faster increase of transportation CO2 emission than industry CO2 emission.\n",
    "\n",
    "\n",
    "2. What is the components of CO2 emission from different fuels (coal, natural gas, petroleum) in 2017 and 2007 in the U.S.? \n",
    "There is more CO2 emission from petroleum than that from coal or natural gas. People used natural gas more than coal in 2017 while people mainly relied on coal in 2007.\n",
    "\n",
    "\n",
    "3. How does the state, population of the state, and the year affect the CO2 emissions? In other word, can we predict CO2 emission based on population density of the state, geographic region of the state, and year?\n",
    "An optimized decision tree model was built with a max depth of 1 which was determined by the graph of test and training set of data mean squared error. We need to constructor a bigger data frame in order to build a better decision tree."
   ]
  },
  {
   "cell_type": "markdown",
   "metadata": {},
   "source": [
    "#### 2.\tMotivation and background:"
   ]
  },
  {
   "cell_type": "markdown",
   "metadata": {},
   "source": [
    "The rapid rise of greenhouse gases emissions is a problem because it causes global warming and changes the climate faster than many living things can adapt to. Carbon dioxide (CO2) makes up the vast majority of greenhouse gas emissions. This project will analyze real CO2 emission data over 40 years in the U.S. with Python and present visualized data and statistical analysis results. Visualized data of the rise pattern and regional pattern of CO2 emission over a few decades across the U.S. can help us to understand the CO2 emissions better and take effective measures. A decision tree model that can predict CO2 emission based on population, geographic region, and the year is also important for us to determine if it is getting better or under control. By introducing hypothesis testing, we can find out if the data collected in Washington state could well present the national data which will give us a better idea on generalizing state date to national data."
   ]
  },
  {
   "cell_type": "markdown",
   "metadata": {},
   "source": [
    "#### 3. Dataset"
   ]
  },
  {
   "cell_type": "markdown",
   "metadata": {},
   "source": [
    "1. The CO2 emissions data can be found via the link below:\n",
    "https://www.eia.gov/opendata/bulkfiles.php#d-use-common-core-and-extensible-metadata\n",
    "On the “Latest bulk download files:” section, you can find “CO2 Emissions” where you can download the data as a .zip file and contains a single .txt file (6.4 MB) of the same name. The format of the .txt file (Fig.1) is shown at the end of this document.\n",
    "\n",
    "\n",
    "2. The population data will be collected from the website below:\n",
    "https://web.archive.org/web/20160130223507/http://www.census.gov:80/popest/data/state/totals/2015/index.html\n",
    "Under the title, Annual Estimates of the Resident Population for the United States, Regions, States, and Puerto Rico: April 1, 2010 to July 1, 2015 (NST-EST2015-01), you can find a link to download a .xlsx file (18K). The link to the .csv file was removed so I decided to use .xlsx file."
   ]
  },
  {
   "cell_type": "markdown",
   "metadata": {},
   "source": [
    "#### 4.\tMethodology (algorithm or analysis):"
   ]
  },
  {
   "cell_type": "markdown",
   "metadata": {},
   "source": [
    "Before I can analyze the data and tackle down each research questions, I need to deal with the Messy Data first. Multiple Datasets, a json file and a excel file, will be used for this project. The CO2 emission json file is 6.4 MB and it contains data for different states in the U.S., different sources (transportation, industry, residential, etc.) and different fuels of the CO2 emission, the time range is from 1980 to 2017, and many other descriptive texts that I shouldn’t include when I read the json file with a New Library org.json. The population data will be read with pandas. While dealing with the research problem related to population of each state in the U.S., the selected CO2 emission data and population data will be merged with the state name being the connection.\n",
    "\n",
    "I read both files on Jupyter Notebook first and got labels and values and become familiar with the data type the how they named different sets of data and how they structured the data file. After getting rid of column and rows were not needed for this project, I have emission data file shown below. The value of the column data contains a list of lists of data with the first index represents year and the second index represents CO2 emission with units of metric tons.\n"
   ]
  },
  {
   "cell_type": "code",
   "execution_count": null,
   "metadata": {},
   "outputs": [],
   "source": []
  },
  {
   "cell_type": "markdown",
   "metadata": {},
   "source": [
    "*Figure 1. A cleaned up Dataframe with the columns needs and dropped missing data rows*"
   ]
  },
  {
   "cell_type": "markdown",
   "metadata": {},
   "source": [
    "For each research problem below:\n",
    "\n",
    "\n",
    "1. How do the transportation CO2 emission and industrial CO2 emission change over 40 years in Washington state?\n",
    "I found the changes of different type of CO2 emissions by plotting with appropriate type of chart. In order to do it, I obtained all the CO2 emissions data of Washington state from the pretreated data. By using pandas, I got data for transportation and industry CO2 emissions from all sectors, all fuels in Washington from 2017 to 1980 and plotted a 1 by 2 line graph.\n",
    "\n",
    "\n",
    "2. What is the components of CO2 emission from different fuels (coal, natural gas, petroleum) in 2017 and 2007 in the U.S.? \n",
    "In order to tackle Many Perspectives to address the CO2 emission problem, I also computed the CO2 emissions from different fuels in 2017 and 2007 in the U.S. and visually present the data with pie graph. I did a lot of data cleaning in order to get all the necessary data for plotting. The pie chart would show how much each fuel contributed to the total CO2 emission in the country in 2017 and 10 years ago and how the ratio has changed.\n",
    "\n",
    "\n",
    "3. How does the population of the state, geographic region of the state, and the year affect the CO2 emissions? In other word, can we predict CO2 emission based on population density of the state, geographic region of the state, and year?\n",
    "Machine learning will be used to answer this question. All these three factors affect the CO2 emissions to different degree. Therefore, I will have to build a new data frame with labels of population, geographic region of the state, year, and corresponding CO2 emission values to build a decision tree model and optimize the model by adjusting the max tree depth. I used sklearn library to build a decision and separate the data to 20% and 80%. Test and train errors (mean squared error) were evaluated and plotted against maximum tree depth. At the end, the decision tree was optimized by changing the maximum tree depth to improve the fit.\n"
   ]
  },
  {
   "cell_type": "markdown",
   "metadata": {},
   "source": [
    "#### 5. Result:"
   ]
  },
  {
   "attachments": {},
   "cell_type": "markdown",
   "metadata": {},
   "source": [
    "1. How do the transportation CO2 emission and industrial CO2 emission change over 40 years in Washington state?"
   ]
  },
  {
   "cell_type": "code",
   "execution_count": null,
   "metadata": {},
   "outputs": [],
   "source": []
  },
  {
   "attachments": {},
   "cell_type": "markdown",
   "metadata": {},
   "source": [
    "*Figure 2. Comparison of trans and ind CO2 emission change over 40 years in WA \n",
    "It shows that the transportation CO2 emission is always higher than industry CO2 emission. There is a more rapid increase in transportation than in industry.*"
   ]
  },
  {
   "attachments": {},
   "cell_type": "markdown",
   "metadata": {},
   "source": [
    "2. What is the components of CO2 emission from different fuels (coal, natural gas, petroleum) in 2017 in the U.S.?"
   ]
  },
  {
   "cell_type": "code",
   "execution_count": null,
   "metadata": {},
   "outputs": [],
   "source": []
  },
  {
   "cell_type": "markdown",
   "metadata": {},
   "source": [
    "*Figure 3. CO2 emission from different fuels in 2017 and 2007 in the US*"
   ]
  },
  {
   "cell_type": "markdown",
   "metadata": {},
   "source": [
    "It shows that the ratio of coal, natural gas, and petroleum contributed to the CO2 emission in the US is more even in 2017 than 10 years ago. People used way more natural gas in 2017 than in 2007 and the natural gas has become a more major fuel than coal currently. It is good because natural gas is more efficient and more environmentally friendly. "
   ]
  },
  {
   "cell_type": "markdown",
   "metadata": {},
   "source": [
    "3. How does the population of the state, geographic region of the state, and the year affect the CO2 emissions?"
   ]
  },
  {
   "cell_type": "code",
   "execution_count": null,
   "metadata": {},
   "outputs": [],
   "source": []
  },
  {
   "attachments": {},
   "cell_type": "markdown",
   "metadata": {},
   "source": [
    "*Figure 4. Test and training data MSE vs max tree depth*"
   ]
  },
  {
   "cell_type": "markdown",
   "metadata": {},
   "source": [
    "I took the population excel file and the CO2 emission text file and constructs a new file which have CO2 emission values for different year, state, population of the state in the US. 2 states per geographic region were chosen, year 2015 and 2010 were chosen to have a total of 20 data. It is not enough data for a valid decision tree model but I wanted to present the ideas of different parameters can affect the value of CO2 emission and we can optimize the tree by plotting mean squared error vs. max tree depth. As shown in figure 4, the optimal max tree depth is determined to be 1."
   ]
  },
  {
   "attachments": {},
   "cell_type": "markdown",
   "metadata": {},
   "source": [
    "#### 6. Challenge Goals:"
   ]
  },
  {
   "attachments": {},
   "cell_type": "markdown",
   "metadata": {},
   "source": [
    "The Biggest challenge will definitely be Messy Data. The CO2 emission .txt file is 6.4 MB and it contains data for different states in the U.S., different sources (transportation, industry, residential, etc.) and different fuels of the CO2 emission, the time range is from 1980 to 2017, and many other descriptive texts that I shouldn’t include when I read the .txt file to a .csv file. The example of the .txt file (Fig. 1) is at the end of this document.\n",
    "\n",
    "\n",
    "I will also use Multiple Datasets for this project. Since population density is an important factor of the CO2 emission, I will have to collect population density data from online by myself and organize them in Excel besides the core dataset of CO2 emissions.\n",
    "\n",
    "\n",
    "The challenges of Many Perspectives, New Library, and Machine Learning will be accomplished while I look for how different factors affect the CO2 emission while I build and optimize the decision tree model."
   ]
  },
  {
   "cell_type": "markdown",
   "metadata": {},
   "source": [
    "#### 7. Work Plan:"
   ]
  },
  {
   "cell_type": "markdown",
   "metadata": {},
   "source": [
    "1. Clean data and get familiar with json Library: estimated 6 hours | 20hours\n",
    "2. Analyze data and plot appropriate graphs for the 1st and 2nd research questions: estimated 5 hours | 4 hours\n",
    "3. Learning more about machine learning, especially multiple linear regression and decision tree | get familiar with sklearn.tree and learn more statistics on regression and squared mean error | build decision tree and optimize it to improve the fit | compare the results and make some conclusion: estimated 15 hours\n",
    "4. Debug | Style check | unit tests: 4 hours | 4\n",
    "5. Organizing all the necessary graphs and tables needed for the report |writing the report: 5 hours | 1 hour\n"
   ]
  },
  {
   "cell_type": "code",
   "execution_count": null,
   "metadata": {},
   "outputs": [],
   "source": []
  }
 ],
 "metadata": {
  "kernelspec": {
   "display_name": "Python 3",
   "language": "python",
   "name": "python3"
  },
  "language_info": {
   "codemirror_mode": {
    "name": "ipython",
    "version": 3
   },
   "file_extension": ".py",
   "mimetype": "text/x-python",
   "name": "python",
   "nbconvert_exporter": "python",
   "pygments_lexer": "ipython3",
   "version": "3.7.0"
  }
 },
 "nbformat": 4,
 "nbformat_minor": 4
}
