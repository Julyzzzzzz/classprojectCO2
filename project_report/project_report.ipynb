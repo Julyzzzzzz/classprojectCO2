{
 "cells": [
  {
   "cell_type": "markdown",
   "metadata": {},
   "source": [
    "# Carbon Dioxide Emissions over 40 Years in the U.S."
   ]
  },
  {
   "attachments": {},
   "cell_type": "markdown",
   "metadata": {},
   "source": [
    "#### 1.\tSummary of research questions and results"
   ]
  },
  {
   "cell_type": "markdown",
   "metadata": {},
   "source": [
    "1. How do the transportation CO2 emission and industrial CO2 emission change over 40 years in Washington state?\n",
    "It shows different increase between different types (transportation and industry) of CO2 emissions. Over 38 years (1980 - 2017), it shows a faster increase of transportation CO2 emission than industry CO2 emission.\n",
    "\n",
    "\n",
    "2. What is the components of CO2 emission from different fuels (coal, natural gas, petroleum) in 2017 and 2007 in the U.S.? \n",
    "There is more CO2 emission from petroleum than that from coal or natural gas. People used natural gas more than coal in 2017 while people mainly relied on coal in 2007.\n",
    "\n",
    "\n",
    "3. How does the state, population of the state, and the year affect the CO2 emissions? In other word, can we predict CO2 emission based on population density of the state, geographic region of the state, and year?\n",
    "An optimized decision tree model was built with a max depth of 1 which was determined by the graph of test and training set of data mean squared error. We need to constructor a bigger data frame in order to build a better decision tree."
   ]
  },
  {
   "attachments": {},
   "cell_type": "markdown",
   "metadata": {},
   "source": [
    "#### 2.\tMotivation and background:"
   ]
  },
  {
   "cell_type": "markdown",
   "metadata": {},
   "source": [
    "The rapid rise of greenhouse gases emissions is a problem because it causes global warming and changes the climate faster than many living things can adapt to. Carbon dioxide (CO2) makes up the vast majority of greenhouse gas emissions. This project will analyze real CO2 emission data over 40 years in the U.S. with Python and present visualized data and statistical analysis results. Visualized data of the rise pattern and regional pattern of CO2 emission over a few decades across the U.S. can help us to understand the CO2 emissions better and take effective measures. A decision tree model that can predict CO2 emission based on population, geographic region, and the year is also important for us to determine if it is getting better or under control. By introducing hypothesis testing, we can find out if the data collected in Washington state could well present the national data which will give us a better idea on generalizing state date to national data."
   ]
  },
  {
   "cell_type": "markdown",
   "metadata": {},
   "source": [
    "#### 3. Dataset"
   ]
  },
  {
   "cell_type": "markdown",
   "metadata": {},
   "source": [
    "1. The CO2 emissions data can be found via the link below:\n",
    "https://www.eia.gov/opendata/bulkfiles.php#d-use-common-core-and-extensible-metadata\n",
    "On the “Latest bulk download files:” section, you can find “CO2 Emissions” where you can download the data as a .zip file and contains a single .txt file (6.4 MB) of the same name. The format of the .txt file (Fig.1) is shown at the end of this document.\n",
    "\n",
    "\n",
    "2. The population data will be collected from the website below:\n",
    "https://web.archive.org/web/20160130223507/http://www.census.gov:80/popest/data/state/totals/2015/index.html\n",
    "Under the title, Annual Estimates of the Resident Population for the United States, Regions, States, and Puerto Rico: April 1, 2010 to July 1, 2015 (NST-EST2015-01), you can find a link to download a .xlsx file (18K). The link to the .csv file was removed so I decided to use .xlsx file."
   ]
  },
  {
   "attachments": {},
   "cell_type": "markdown",
   "metadata": {},
   "source": [
    "#### 4.\tMethodology (algorithm or analysis):"
   ]
  },
  {
   "cell_type": "markdown",
   "metadata": {},
   "source": [
    "Before I can analyze the data and tackle down each research questions, I need to deal with the Messy Data first. Multiple Datasets, a json file and a excel file, will be used for this project. The CO2 emission json file is 6.4 MB and it contains data for different states in the U.S., different sources (transportation, industry, residential, etc.) and different fuels of the CO2 emission, the time range is from 1980 to 2017, and many other descriptive texts that I shouldn’t include when I read the json file with a New Library org.json. The population data will be read with pandas. While dealing with the research problem related to population of each state in the U.S., the selected CO2 emission data and population data will be merged with the state name being the connection.\n",
    "\n",
    "I read both files on Jupyter Notebook first and got labels and values and become familiar with the data type the how they named different sets of data and how they structured the data file. After getting rid of column and rows were not needed for this project, I have emission data file shown below. The value of the column data contains a list of lists of data with the first index represents year and the second index represents CO2 emission with units of metric tons.\n"
   ]
  },
  {
   "cell_type": "code",
   "execution_count": null,
   "metadata": {},
   "outputs": [],
   "source": []
  },
  {
   "attachments": {},
   "cell_type": "markdown",
   "metadata": {},
   "source": [
    "*Figure 1. A cleaned up Dataframe with the columns needs and dropped missing data rows*"
   ]
  },
  {
   "cell_type": "markdown",
   "metadata": {},
   "source": [
    "For each research problem below:\n",
    "\n",
    "\n",
    "1. How do the transportation CO2 emission and industrial CO2 emission change over 40 years in Washington state?\n",
    "I found the changes of different type of CO2 emissions by plotting with appropriate type of chart. In order to do it, I obtained all the CO2 emissions data of Washington state from the pretreated data. By using pandas, I got data for transportation and industry CO2 emissions from all sectors, all fuels in Washington from 2017 to 1980 and plotted a 1 by 2 line graph.\n",
    "\n",
    "\n",
    "2. What is the components of CO2 emission from different fuels (coal, natural gas, petroleum) in 2017 and 2007 in the U.S.? \n",
    "In order to tackle Many Perspectives to address the CO2 emission problem, I also computed the CO2 emissions from different fuels in 2017 and 2007 in the U.S. and visually present the data with pie graph. I did a lot of data cleaning in order to get all the necessary data for plotting. The pie chart would show how much each fuel contributed to the total CO2 emission in the country in 2017 and 10 years ago and how the ratio has changed.\n",
    "\n",
    "\n",
    "3. How does the population of the state, geographic region of the state, and the year affect the CO2 emissions? In other word, can we predict CO2 emission based on population density of the state, geographic region of the state, and year?\n",
    "Machine learning will be used to answer this question. All these three factors affect the CO2 emissions to different degree. Therefore, I will have to build a new data frame with labels of population, geographic region of the state, year, and corresponding CO2 emission values to build a decision tree model and optimize the model by adjusting the max tree depth. I used sklearn library to build a decision and separate the data to 20% and 80%. Test and train errors (mean squared error) were evaluated and plotted against maximum tree depth. At the end, the decision tree was optimized by changing the maximum tree depth to improve the fit.\n"
   ]
  },
  {
   "cell_type": "code",
   "execution_count": null,
   "metadata": {},
   "outputs": [],
   "source": []
  }
 ],
 "metadata": {
  "kernelspec": {
   "display_name": "Python 3",
   "language": "python",
   "name": "python3"
  },
  "language_info": {
   "codemirror_mode": {
    "name": "ipython",
    "version": 3
   },
   "file_extension": ".py",
   "mimetype": "text/x-python",
   "name": "python",
   "nbconvert_exporter": "python",
   "pygments_lexer": "ipython3",
   "version": "3.7.0"
  }
 },
 "nbformat": 4,
 "nbformat_minor": 4
}
